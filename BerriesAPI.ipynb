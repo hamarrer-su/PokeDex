{
 "cells": [
  {
   "cell_type": "code",
   "execution_count": 7,
   "metadata": {},
   "outputs": [],
   "source": [
    "import requests\n",
    "import json\n",
    "import pandas as pd\n",
    "import numpy as np\n"
   ]
  },
  {
   "cell_type": "code",
   "execution_count": 8,
   "metadata": {},
   "outputs": [],
   "source": [
    "def berry_api(user_inp):\n",
    "    url = 'https://pokeapi.co/api/v2/berry/' + user_inp.lower() + '/'\n",
    "    response = requests.get(url)\n",
    "    results = response.json()\n",
    "    berry_dict = {'Item_Name': results['item']['name'],'Firmness': results['firmness']['name'],'Growth_Time': results['growth_time'],'Max_Harvest': results['max_harvest'], 'Soil_Dryness': results['soil_dryness'], 'Natural_Gift_Type': results['natural_gift_type']['name'], 'Natural_Gift_Power': results['natural_gift_power']}\n",
    "    return berry_dict"
   ]
  },
  {
   "cell_type": "code",
   "execution_count": 9,
   "metadata": {},
   "outputs": [],
   "source": [
    "berries =['cheri', 'cheri', 'cheri ', 'chesto', 'chesto', 'chesto ', 'pecha', 'pecha', 'pecha ', 'rawst', 'rawst', 'rawst ', 'aspear', 'aspear', 'aspear ', 'leppa', 'leppa', 'leppa ', 'oran', 'oran', 'oran ', 'persim', 'persim', 'persim ', 'lum', 'lum', 'lum ', 'sitrus', 'sitrus', 'sitrus ', 'figy', 'figy', 'figy ', 'wiki', 'wiki', 'wiki ', 'mago', 'mago', 'mago ', 'aguav', 'aguav', 'aguav ', 'iapapa', 'iapapa', 'iapapa ', 'razz', 'razz', 'razz ', 'bluk', 'bluk', 'bluk ', 'nanab', 'nanab', 'nanab ', 'wepear', 'wepear', 'wepear ', 'pinap', 'pinap', 'pinap ', 'pomeg', 'pomeg', 'pomeg ', 'kelpsy', 'kelpsy', 'kelpsy ', 'qualot', 'qualot', 'qualot ', 'hondew', 'hondew', 'hondew ', 'grepa', 'grepa', 'grepa ', 'tamato', 'tamato', 'tamato ','cornn', 'cornn', 'cornn ', 'magost', 'magost', 'magost ', 'rabuta', 'rabuta', 'rabuta ', 'nomel', 'nomel', 'nomel ', 'spelon', 'spelon', 'spelon ', 'pamtre', 'pamtre', 'pamtre ', 'watmel', 'watmel', 'watmel ', 'durin', 'durin', 'durin ', 'belue', 'belue', 'belue ', 'occa', 'occa', 'occa ', 'passho', 'passho', 'passho ', 'wacan', 'wacan', 'wacan ', 'rindo', 'rindo', 'rindo ', 'yache', 'yache', 'yache ', 'chople', 'chople', 'chople ', 'kebia', 'kebia', 'kebia ', 'chilan', 'chilan', 'chilan ', 'drash', 'drash', 'drash ', 'eggant', 'eggant', 'eggant ', 'nutpea', 'nutpea', 'nutpea ', 'pumkin', 'pumkin', 'pumkin ', 'shuca', 'shuca', 'shuca ', 'strib', 'strib', 'strib ', 'ginema', 'ginema', 'ginema ', 'kuo', 'kuo', 'kuo ', 'niniku', 'niniku', 'niniku ', 'topo', 'topo', 'topo ', 'touga', 'touga', 'touga ', 'yago', 'yago', 'yago ', 'coba', 'coba', 'coba ', 'payapa', 'payapa', 'payapa ', 'tanga', 'tanga', 'tanga ', 'charti', 'charti', 'charti ', 'kasib', 'kasib', 'kasib ', 'haban', 'haban', 'haban ', 'colbur', 'colbur', 'colbur ', 'babiri', 'babiri', 'babiri ', 'chilan', 'chilan', 'chilan ', 'liechi', 'liechi', 'liechi ', 'ganlon', 'ganlon', 'ganlon ', 'salac', 'salac', 'salac ', 'petaya', 'petaya', 'petaya ', 'apicot', 'apicot', 'apicot ', 'lansat', 'lansat', 'lansat ', 'starf', 'starf', 'starf ', 'enigma', 'enigma', 'enigma ', 'micle', 'micle', 'micle ', 'custap', 'custap', 'custap ', 'jaboca', 'jaboca', 'jaboca ', 'rowap', 'rowap', 'rowap ', 'bitter', 'bitter', 'bitter ', 'burnt', 'burnt', 'burnt ', 'gold', 'gold', 'gold ', 'ice', 'ice', 'ice ', 'melody', 'melody', 'melody ', 'mint', 'mint', 'mint ', 'miracle', 'miracle', 'miracle ', 'mirage', 'mirage', 'mirage ', 'mystery', 'mystery', 'mystery ', 'pinkan', 'pinkan', 'pinkan ', 'rinka', 'rinka', 'rinka ']"
   ]
  },
  {
   "cell_type": "code",
   "execution_count": 10,
   "metadata": {},
   "outputs": [
    {
     "name": "stdout",
     "output_type": "stream",
     "text": [
      "Enter a Berry: chesto\n",
      "Enter a Berry: quit\n",
      "You've exited the program.\n"
     ]
    },
    {
     "data": {
      "text/html": [
       "<div>\n",
       "<style scoped>\n",
       "    .dataframe tbody tr th:only-of-type {\n",
       "        vertical-align: middle;\n",
       "    }\n",
       "\n",
       "    .dataframe tbody tr th {\n",
       "        vertical-align: top;\n",
       "    }\n",
       "\n",
       "    .dataframe thead th {\n",
       "        text-align: right;\n",
       "    }\n",
       "</style>\n",
       "<table border=\"1\" class=\"dataframe\">\n",
       "  <thead>\n",
       "    <tr style=\"text-align: right;\">\n",
       "      <th></th>\n",
       "      <th>Item Name</th>\n",
       "      <th>Firmness</th>\n",
       "      <th>Growth Time</th>\n",
       "      <th>Max Harvest</th>\n",
       "      <th>Soil Dryness</th>\n",
       "      <th>Natural Gift Type</th>\n",
       "      <th>Natural Gift Power</th>\n",
       "    </tr>\n",
       "  </thead>\n",
       "  <tbody>\n",
       "    <tr>\n",
       "      <th>1</th>\n",
       "      <td>chesto-berry</td>\n",
       "      <td>super-hard</td>\n",
       "      <td>3</td>\n",
       "      <td>5</td>\n",
       "      <td>15</td>\n",
       "      <td>water</td>\n",
       "      <td>60</td>\n",
       "    </tr>\n",
       "  </tbody>\n",
       "</table>\n",
       "</div>"
      ],
      "text/plain": [
       "      Item Name    Firmness  Growth Time  Max Harvest  Soil Dryness  \\\n",
       "1  chesto-berry  super-hard            3            5            15   \n",
       "\n",
       "  Natural Gift Type  Natural Gift Power  \n",
       "1             water                  60  "
      ]
     },
     "execution_count": 10,
     "metadata": {},
     "output_type": "execute_result"
    }
   ],
   "source": [
    "while True:\n",
    "    berry = input('Enter a Berry: ')\n",
    "    if berry.lower() == 'quit':\n",
    "        print(\"You've exited the program.\")\n",
    "        break\n",
    "    if berry.lower() == '':\n",
    "        print('Please Enter a Value')\n",
    "    else:\n",
    "        if berry in berries:\n",
    "            berry_list = [berry_api(berry)]\n",
    "            berry_api_df = pd.DataFrame({'Item Name': berry_list[0]['Item_Name'], 'Firmness': berry_list[0]['Firmness'], 'Growth Time': berry_list[0]['Growth_Time'], 'Max Harvest': berry_list[0]['Max_Harvest'], 'Soil Dryness': berry_list[0]['Soil_Dryness'], 'Natural Gift Type': berry_list[0]['Natural_Gift_Type'], 'Natural Gift Power': berry_list[0]['Natural_Gift_Power']}, index = [1])\n",
    "            berry_api_df\n",
    "        else:\n",
    "            print(\"Uh oh! That input was invalid. If you're searching up a berry; try typing it without 'berry' on the end.\")\n",
    "berry_api_df\n",
    "        "
   ]
  },
  {
   "cell_type": "code",
   "execution_count": null,
   "metadata": {},
   "outputs": [],
   "source": []
  }
 ],
 "metadata": {
  "kernelspec": {
   "display_name": "Python 3",
   "language": "python",
   "name": "python3"
  },
  "language_info": {
   "codemirror_mode": {
    "name": "ipython",
    "version": 3
   },
   "file_extension": ".py",
   "mimetype": "text/x-python",
   "name": "python",
   "nbconvert_exporter": "python",
   "pygments_lexer": "ipython3",
   "version": "3.6.6"
  }
 },
 "nbformat": 4,
 "nbformat_minor": 2
}
