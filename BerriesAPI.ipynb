{
 "cells": [
  {
   "cell_type": "code",
   "execution_count": 1,
   "metadata": {},
   "outputs": [],
   "source": [
    "import requests\n",
    "import json\n",
    "import pandas as pd\n",
    "import numpy as np\n",
    "\n",
    "\n",
    "\n"
   ]
  },
  {
   "cell_type": "code",
   "execution_count": 2,
   "metadata": {},
   "outputs": [],
   "source": [
    "def berry_name_api(user_inp):\n",
    "    url = 'https://pokeapi.co/api/v2/berry/' + user_inp.lower() + '/'\n",
    "    response = requests.get(url)\n",
    "    results = response.json()\n",
    "    berry_dict = {'Item_Name': results['item']['name'],'Firmness': results['firmness']['name'],'Growth_Time': results['growth_time'],'Max_Harvest': results['max_harvest'], 'Soil_Dryness': results['soil_dryness'], 'Natural_Gift_Type': results['natural_gift_type']['name'], 'Natural_Gift_Power': results['natural_gift_power']}\n",
    "    return berry_dict"
   ]
  },
  {
   "cell_type": "code",
   "execution_count": 3,
   "metadata": {},
   "outputs": [],
   "source": [
    "def pokemon_api(user_inp):\n",
    "    url = 'https://pokeapi.co/api/v2/pokemon/' + user_inp.lower() +'/'\n",
    "    response = requests.get(url)\n",
    "    results = response.json()\n",
    "    pokemon_dict = {'Species': results['species']['name'],'Pokedex ID': results['id'],'Weight': results['weight'], 'Height': results['height'],'Speed': results['stats'][0]['base_stat'], 'Special Defense': results['stats'][1]['base_stat'], 'Special Attack': results['stats'][2]['base_stat'], 'Defense': results['stats'][3]['base_stat'], 'Attack': results['stats'][4]['base_stat'], 'HP': results['stats'][5]['base_stat']}\n",
    "    return pokemon_dict\n"
   ]
  },
  {
   "cell_type": "code",
   "execution_count": 4,
   "metadata": {},
   "outputs": [],
   "source": [
    "def berry_firm_api(user_inp):\n",
    "    x = 0\n",
    "    berry_firm_list =[] \n",
    "    url = 'https://pokeapi.co/api/v2/berry-firmness/' + user_inp.lower() + '/'\n",
    "    response = requests.get(url)\n",
    "    results = response.json()\n",
    "    berries_firm = results['berries']\n",
    "    while True:\n",
    "        for numbers in berries_firm:\n",
    "            berry_firm_list.append(berries_firm[x]['name'])\n",
    "            x = x + 1\n",
    "        return berry_firm_list"
   ]
  },
  {
   "cell_type": "code",
   "execution_count": 5,
   "metadata": {},
   "outputs": [],
   "source": [
    "def berry_flav_api(user_inp):\n",
    "    x = 0\n",
    "    berry_flav_list =[] \n",
    "    url = 'https://pokeapi.co/api/v2/berry-flavor/' + user_inp.lower() + '/'\n",
    "    response = requests.get(url)\n",
    "    results = response.json()\n",
    "    berries_flav = results['berries']\n",
    "    while True:\n",
    "        for numbers in berries_flav:\n",
    "            berry_flav_list.append(berries_flav[x]['berry']['name'])\n",
    "            x = x + 1\n",
    "        return berry_flav_list"
   ]
  },
  {
   "cell_type": "code",
   "execution_count": 6,
   "metadata": {},
   "outputs": [],
   "source": [
    "firmness = ['soft', 'very-soft', 'hard', 'very-hard','super-hard']\n",
    "flavor = ['sweet','spicy','bitter', 'sour','dry']\n",
    "berries = ['cheri', 'chesto', 'pecha', 'rawst', 'aspear', 'leppa', 'oran', 'persim', 'lum', 'sitrus', 'figy', 'wiki', 'mago', 'aguav', 'iapapa', 'razz', 'bluk', 'nanab', 'wepear', 'pinap', 'pomeg', 'kelpsy', 'qualot', 'hondew', 'grepa', 'tamato', 'cornn', 'magost', 'rabuta', 'nomel', 'spelon', 'pamtre', 'watmel', 'durin', 'belue', 'occa', 'passho', 'wacan', 'rindo', 'yache', 'chople', 'kebia', 'chilan', 'drash', 'eggant', 'nutpea', 'pumkin', 'shuca', 'strib', 'ginema', 'kuo', 'niniku', 'topo', 'touga', 'yago', 'coba', 'payapa', 'tanga', 'charti', 'kasib', 'haban', 'colbur', 'babiri', 'liechi', 'ganlon', 'salac', 'petaya', 'apicot', 'lansat', 'starf', 'enigma', 'micle', 'custap', 'jaboca', 'rowap']\n",
    "pokemon = ['bulbasaur', 'ivysaur', 'venusaur', 'charmander', 'charmeleon', 'charizard', 'squirtle', 'wartortle', 'blastoise', 'caterpie', 'metapod', 'butterfree', 'weedle', 'kakuna', 'beedrill', 'pidgey', 'pidgeotto', 'pidgeot', 'rattata', 'raticate', 'spearow', 'fearow', 'ekans', 'arbok', 'pikachu', 'raichu', 'sandshrew', 'sandlash', 'nidorina', 'nidoqueen', 'nidoran', 'nidorino', 'nidoking', 'clefairy', 'clefable', 'vulpix', 'ninetails', 'jigglypuff', 'wigglytuff', 'zubat', 'golbat', 'oddish', 'gloom', 'vileplume', 'paras', 'parasect', 'venonat', 'venemoth', 'diglett', 'dugtrio', 'meowth', 'persian', 'psyduck', 'golduck', 'mankey', 'primeape', 'growlithe', 'arcanine', 'poliwag', 'poliwhirl', 'poliwrath', 'abra', 'kadabra', 'alakazam', 'machop', 'machoke', 'machamp', 'bellsprout', 'weepinbell', 'victreebel', 'tentacool', 'tentacruel', 'geodude', 'graveler', 'golem', 'ponyta', 'rapidash', 'slowpoke', 'slowbro', 'magnemite', 'magneton', 'farfetchd', 'doduo', 'dodrio', 'seel', 'dewgong', 'grimer', 'muk', 'shellder', 'cloyster', 'gastly', 'haunter', 'gengar', 'onix', 'drowzee', 'hypno', 'krabby', 'kingler', 'voltorb', 'electrode', 'exeggcute', 'exeggutor', 'cubone', 'marowak', 'hitmonlee', 'hitmonchan','lickitung', 'koffing', 'weezing', 'rhyhorn', 'rhydon', 'chansey', 'tangela', 'kangaskhan', 'horsea', 'seadra', 'goldeen', 'seaking', 'staryu', 'starmie', 'scyther', 'jynx', 'electabuzz', 'magmar', 'pinsir', 'tauros', 'magikarp', 'gyarados', 'lapras', 'ditto', 'eevee', 'vaporeon', 'jolteon', 'flareon', 'porygon', 'omanyte', 'omastar', 'kabuto', 'kabutops', 'aerodactyl', 'snorlax', 'articuno', 'zapdos', 'moltres', 'dratini', 'dragonair', 'dragonite', 'mewtwo', 'mew', 'chikorita', 'bayleef', 'meganium', 'cyndaquil', 'quilava', 'typhlosion', 'totodile', 'croconaw', 'feraligatr', 'sentret', 'furret', 'hoothoot', 'noctowl', 'ledyba', 'ledian', 'spinarak', 'ariados', 'crobat', 'chinchou', 'lanturn', 'pichu', 'cleffa', 'jigglypuff', 'igglybuff', 'togepi', 'togetic', 'natu', 'xatu', 'mareep', 'flaafy', 'ampharos', 'bellossom', 'marill', 'azumarill', 'sudowoodo', 'politoed', 'hoppip', 'skiploom', 'jumpluff', 'aipom', 'sunkern', 'sunflora', 'yanma', 'wooper', 'quagsire', 'espeon', 'umbreon', 'murkrow', 'slowking', 'misdreaveus', 'unown', 'wobbuffet', 'girafarig', 'pineco', 'forretress','dunsparce', 'gligar', 'steelix', 'snubbull', 'granbull', 'qwilfish', 'scizor', 'shuckle', 'heracross', 'sneasel', 'teddiursa', 'ursaring', 'slugma', 'magcargo', 'swinub', 'piloswine', 'corsola', 'remoraid', 'octillery', 'delibird', 'mantine', 'skarmory', 'houndour', 'houndoom', 'kingdra', 'phanpy', 'donphan', 'porygon2', 'stantler', 'smeargle', 'tyrogue', 'hitmontop', 'smoochum', 'elekid', 'magby', 'miltank', 'blissey', 'raikou', 'entei', 'suicune', 'larvitar', 'pupitar', 'tyranitar', 'lugia', 'ho-oh', 'celebi', 'treecko', 'grovyle', 'sceptile', 'torchic', 'combusken', 'blaziken', 'mudkip', 'marshtomp', 'swampert', 'poochyena', 'mightyena', 'zigzagoon', 'linoone', 'wurmple','silcoon', 'beautifly', 'cascoon', 'dustox', 'lotad', 'lombre', 'ludicolo', 'seedot', 'nuzleaf', 'shiftry', 'taillow', 'swellow', 'wingull', 'pelipper', 'ralts', 'kirlia', 'gardevoir', 'surskit', 'masquerain', 'shroomish', 'breloom', 'slakoth', 'vigoroth', 'slaking', 'nincada', 'ninjask', 'shedinja', 'whismur', 'loudred', 'exploud', 'makuhita', 'hariyama', 'azurill', 'nosepass', 'skitty', 'delcatty', 'sableye', 'mawile', 'aron', 'lairon', 'aggron', 'meditite', 'medicham', 'electrike', 'manectric', 'plusle', 'minun', 'volbeat', 'illumise', 'roselia', 'gulpin', 'swalot', 'carvanha', 'sharpedo', 'wailmer', 'wailord', 'numel', 'camerupt', 'torkoal', 'spoink', 'grumpig', 'spinda', 'trapinch', 'vibrava', 'flygon', 'cacnea', 'cacturne', 'swablu', 'altaria', 'zangoose', 'seviper', 'lunatone', 'solrock', 'barboach', 'whiscash', 'corphish', 'crawdaunt', 'baltoy', 'claydol', 'lileep', 'cradily', 'anorith', 'armaldo', 'feebas', 'milotic', 'castform', 'kecleon', 'shuppet', 'banette', 'duskull', 'dusclops', 'tropius', 'chimecho', 'absol', 'wynaut', 'snorunt', 'glalie', 'spheal', 'sealeo', 'walrein', 'clamperl', 'huntail', 'gorebyss', 'relicanth', 'luvdisc', 'bagon', 'shelgon', 'salamence', 'beldum', 'metang', 'metagross', 'regirock', 'regice', 'registeel', 'latias', 'latios', 'kyogre', 'groudon', 'rayquaza', 'jirachi', 'deoxys', 'turtwig', 'grotle', 'torterra', 'chimchar', 'monferno', 'infernape', 'piplup', 'prinplup', 'empoleon', 'starly', 'staravia', 'staraptor', 'bidoof', 'bibarel', 'kricketot', 'kricketune', 'shinx', 'luxio', 'luxray', 'budew', 'roserade', 'cranidos', 'rampardos','shieldon', 'bastiodon', 'burmy', 'wormadam', 'mothim', 'combee', 'vespiquen', 'pachirisu', 'buizel', 'floatzel', 'cherubi', 'cherrim', 'shellos', 'gastrodon', 'ambipom', 'drifloon', 'drifblim', 'buneary', 'lopunny', 'mismagius', 'honchkrow', 'glameow', 'purugly', 'chingling', 'stunky', 'stuntank', 'bronzor', 'bronzong', 'bonsly', 'happiny', 'chatot', 'spiritomb', 'gible', 'gabite', 'garchomp', 'munchlax', 'riolu', 'lucario', 'hippopotas', 'hippowdon', 'skorupi', 'drapion', 'croagunk', 'toxicroak', 'carnivine', 'finneon', 'lumineon', 'mantyke', 'snover', 'abomasnow', 'weavile', 'magnezone', 'lickilicky', 'rhyperior', 'tangrowth', 'electivire', 'magmortar', 'togekiss', 'yanmega', 'leafeon', 'glaceon', 'gliscor', 'mamoswine', 'porygon-z', 'gallade', 'probopass', 'dusknoir', 'froslass', 'rotom', 'uxie', 'mesprit', 'azelf', 'dialga', 'palkia', 'heatran', 'regigigas', 'giratina', 'cresselia', 'phione', 'manaphy', 'darkrai', 'shaymin', 'arceus', 'victini', 'snivy', 'servine', 'serperior', 'tepig', 'pignite', 'emboar', 'oshawott', 'dewott', 'samurott', 'patrat', 'watchog', 'lillipup', 'herdier', 'stoutland', 'purrloin', 'liepard', 'pansage', 'simisag', 'pansear', 'simisear', 'panpour', 'simipour', 'munna', 'musharna', 'pidove', 'tranquill', 'unfezant', 'blitzle', 'zebstrika', 'roggenrola', 'boldore', 'gigalith', 'woobat', 'swoobat', 'drilbur', 'excadrill', 'audino', 'timburr', 'gurdurr', 'conkeldurr', 'tympole', 'palpitoad', 'seismitoad', 'throh', 'sawk', 'sewaddle', 'swadloon', 'leavanny', 'venipede', 'whirlipede', 'scolipede', 'cottonee', 'whimsicott', 'petilil', 'lilligant', 'basculin', 'sandile', 'krokorok', 'krookodile', 'darumaka', 'darmanitan', 'maractus', 'dwebble', 'crustle', 'scraggy', 'scrafty', 'sigilyph', 'yamask', 'cofagrigus', 'tirtouga', 'carracosta', 'archen', 'archeops', 'trubbish', 'garbodor', 'zorua', 'zoroark', 'minccino', 'cinccino', 'gothita', 'gothorita', 'gothitelle', 'solosis', 'duosion', 'reuniclus', 'ducklett', 'swanna', 'vanillite', 'vanillish', 'vanilluxe', 'deerling', 'sawsbuck', 'emolga', 'karrablast', 'escavalier', 'foongus', 'amoonguss', 'frillish', 'jellicent', 'alomomola', 'joltik', 'galvantula', 'ferroseed', 'ferrothorn', 'klink', 'klang', 'klinklang', 'tynamo', 'eelektrik', 'eelektross', 'elgyem', 'beheerem', 'litwick', 'lampent', 'chandelure','axew', 'fraxure', 'cubchoo', 'beartic', 'cryogonal', 'shelmet', 'accelgor', 'stunfisk', 'mienfoo', 'mienshao', 'druddigon', 'golett', 'golurk', 'pawniard', 'bisharp', 'bouffalant', 'rufflet', 'braviary', 'vullaby', 'mandibuzz', 'heatmor', 'durant', 'deino', 'zweilous', 'hydreigon', 'larvesta', 'volcarona', 'cobalion', 'terrakion', 'virizion', 'tornadus', 'thundurus', 'reshiram', 'zekrom', 'landorus', 'kyurem', 'keldeo', 'meloetta', 'genesect', 'chespin', 'quilladin', 'chesnaught', 'fennekin', 'braixen', 'delphox', 'froaki', 'frogadier', 'greninja', 'bunnelby', 'diggersby', 'fletchling', 'fletchinder', 'talonflame', 'scatterbug', 'spewpa', 'vivillon', 'litleo', 'pyroar', 'flabebe', 'floette', 'florges', 'skiddo', 'gogoat', 'pancham', 'pangoro', 'furfrou', 'espurr', 'meowstic', 'honedge', 'doublade', 'aegislash', 'spritzee', 'aromatisse', 'swirlix', 'slurpuff', 'inkay', 'malamar', 'binacle', 'barbaracle', 'skrelp', 'dragalge', 'clauncher', 'clawitzer', 'helioptile', 'heliolisk', 'tyrunt', 'tyrantrum', 'amaura', 'aurorus', 'sylveon', 'hawlucha', 'dedenne', 'carbink', 'goomy', 'sliggoo', 'goodra', 'klefki', 'phantump', 'trevenant', 'pumpkaboo', 'gourgeist', 'bergmite', 'avalugg', 'noibat', 'noivern', 'xerneas', 'yveltal', 'zygarde', 'diancie', 'hoopa', 'volcanion', 'rowlet', 'dartix', 'decidueye', 'litten', 'torracat', 'incineroar', 'popplio', 'brionne', 'primarina', 'pikipek', 'trumbeak', 'toucannon', 'yungoos', 'gumshoos', 'grubbin', 'sharjabug', 'vikavolt', 'crabrawler', 'crabominable', 'oricorio', 'cutiefly', 'ribombee', 'rockruff', 'lycanroc', 'wishiwashi', 'mareanie', 'toxapex', 'mudbray', 'mudsdale', 'dewpider', 'araquanid', 'fomantis', 'lurantis', 'morelull', 'shiinotic', 'salandit', 'salazzle', 'stufful', 'bewear', 'bounsweet', 'steenee', 'tsareena', 'comfey', 'oranguru', 'passimian', 'wimpod', 'golisopod', 'sandygast', 'palossand', 'pyukumuku', 'silvally', 'minior', 'komala', 'turtonator', 'togedemaru', 'mimikyu', 'bruxish', 'drampa', 'dhelmise', 'jangmo-o', 'hakamo-o', 'kommo-o', 'cosmog', 'cosmoem', 'solgaleo', 'lunala', 'nihilego', 'buzzwole', 'pheromosa', 'xurkitree', 'celesteela', 'kartana', 'guzzlord', 'necrozma', 'magearna', 'marshadow', 'poipole', 'naganadel', 'stakataka', 'blacephalon', 'zeraora']"
   ]
  },
  {
   "cell_type": "code",
   "execution_count": null,
   "metadata": {},
   "outputs": [
    {
     "name": "stdout",
     "output_type": "stream",
     "text": [
      "POKEDEX\n",
      "Program Rules/Tips:\n",
      "1.You can input any Pokemon name, generation or type in this program.\n",
      "2.You may input any Berry name, flavor, or firmness in this program.\n",
      "3.When entering a pokemon name make sure to include any dashes in their name.\n",
      "4.When entering a pokemon name do not include any accented letters.\n",
      "5.Have fun!\n",
      "\n",
      "Berry Firmness Options:\n",
      "1.soft\n",
      "2.very-soft\n",
      "3.hard\n",
      "4.very-hard\n",
      "5.super-hard\n",
      "\n",
      "Berry Flavor Options:\n",
      "1.sweet\n",
      "2.spicy\n",
      "3.bitter\n",
      "4.sour\n",
      "5.dry\n",
      "Enter an Input: bulbasaur\n"
     ]
    },
    {
     "data": {
      "text/html": [
       "<div>\n",
       "<style scoped>\n",
       "    .dataframe tbody tr th:only-of-type {\n",
       "        vertical-align: middle;\n",
       "    }\n",
       "\n",
       "    .dataframe tbody tr th {\n",
       "        vertical-align: top;\n",
       "    }\n",
       "\n",
       "    .dataframe thead th {\n",
       "        text-align: right;\n",
       "    }\n",
       "</style>\n",
       "<table border=\"1\" class=\"dataframe\">\n",
       "  <thead>\n",
       "    <tr style=\"text-align: right;\">\n",
       "      <th></th>\n",
       "      <th>Species</th>\n",
       "      <th>Pokedex ID</th>\n",
       "      <th>Weight</th>\n",
       "      <th>Height</th>\n",
       "      <th>Speed</th>\n",
       "      <th>Special Defense</th>\n",
       "      <th>Special Attack</th>\n",
       "      <th>Defense</th>\n",
       "      <th>Attack</th>\n",
       "      <th>HP</th>\n",
       "    </tr>\n",
       "  </thead>\n",
       "  <tbody>\n",
       "    <tr>\n",
       "      <th>1</th>\n",
       "      <td>bulbasaur</td>\n",
       "      <td>1</td>\n",
       "      <td>69</td>\n",
       "      <td>7</td>\n",
       "      <td>45</td>\n",
       "      <td>65</td>\n",
       "      <td>65</td>\n",
       "      <td>49</td>\n",
       "      <td>49</td>\n",
       "      <td>45</td>\n",
       "    </tr>\n",
       "  </tbody>\n",
       "</table>\n",
       "</div>"
      ],
      "text/plain": [
       "     Species  Pokedex ID  Weight  Height  Speed  Special Defense  \\\n",
       "1  bulbasaur           1      69       7     45               65   \n",
       "\n",
       "   Special Attack  Defense  Attack  HP  \n",
       "1              65       49      49  45  "
      ]
     },
     "metadata": {},
     "output_type": "display_data"
    }
   ],
   "source": [
    "x = 1\n",
    "print('POKEDEX')\n",
    "print('Program Rules/Tips:\\n1.You can input any Pokemon name, generation or type in this program.\\n2.You may input any Berry name, flavor, or firmness in this program.\\n3.When entering a pokemon name make sure to include any dashes in their name.\\n4.When entering a pokemon name do not include any accented letters.\\n5.Have fun!')\n",
    "print('\\nBerry Firmness Options:\\n1.soft\\n2.very-soft\\n3.hard\\n4.very-hard\\n5.super-hard')\n",
    "print('\\nBerry Flavor Options:\\n1.sweet\\n2.spicy\\n3.bitter\\n4.sour\\n5.dry')\n",
    "while True:\n",
    "    user_inp = input('Enter an Input: ')\n",
    "    user_inp = user_inp.lower()\n",
    "    if user_inp == 'quit':\n",
    "        print(\"You've exited the program.\")\n",
    "        break\n",
    "    if user_inp == '':\n",
    "        print('Please Enter a Value')\n",
    "    if user_inp in firmness:\n",
    "        berry_firm_api_df = pd.DataFrame({'Berries':berry_firm_api(user_inp)})\n",
    "        display(berry_firm_api_df)\n",
    "    if user_inp in flavor:\n",
    "        berry_flav_api_df = pd.DataFrame({'Berries':berry_flav_api(user_inp)})\n",
    "        display(berry_flav_api_df)\n",
    "    if user_inp in berries:\n",
    "        berry_list = [berry_name_api(user_inp)]\n",
    "        berry_api_df = pd.DataFrame({'Item Name': berry_list[0]['Item_Name'], 'Firmness': berry_list[0]['Firmness'], 'Growth Time': berry_list[0]['Growth_Time'], 'Max Harvest': berry_list[0]['Max_Harvest'], 'Soil Dryness': berry_list[0]['Soil_Dryness'], 'Natural Gift Type': berry_list[0]['Natural_Gift_Type'], 'Natural Gift Power': berry_list[0]['Natural_Gift_Power']}, index = [x])\n",
    "        x = x + 1\n",
    "        display(berry_api_df)\n",
    "    if user_inp not in berries and user_inp in pokemon:\n",
    "        pokemon_info = [pokemon_api(user_inp)] \n",
    "        pokemon_api_df = pd.DataFrame({'Species': pokemon_info[0]['Species'],'Pokedex ID': pokemon_info[0]['Pokedex ID'], 'Weight': pokemon_info[0]['Weight'], 'Height': pokemon_info[0]['Height'], 'Speed': pokemon_info[0]['Speed'], 'Special Defense': pokemon_info[0]['Special Defense'], 'Special Attack': pokemon_info[0]['Special Attack'], 'Defense': pokemon_info[0]['Defense'], 'Attack': pokemon_info[0]['Attack'], 'HP': pokemon_info[0]['HP']}, index =[x])\n",
    "        x = x + 1\n",
    "        display(pokemon_api_df)\n",
    "\n"
   ]
  },
  {
   "cell_type": "code",
   "execution_count": null,
   "metadata": {},
   "outputs": [],
   "source": []
  },
  {
   "cell_type": "code",
   "execution_count": null,
   "metadata": {},
   "outputs": [],
   "source": []
  }
 ],
 "metadata": {
  "kernelspec": {
   "display_name": "Python 3",
   "language": "python",
   "name": "python3"
  },
  "language_info": {
   "codemirror_mode": {
    "name": "ipython",
    "version": 3
   },
   "file_extension": ".py",
   "mimetype": "text/x-python",
   "name": "python",
   "nbconvert_exporter": "python",
   "pygments_lexer": "ipython3",
   "version": "3.6.6"
  }
 },
 "nbformat": 4,
 "nbformat_minor": 2
}
